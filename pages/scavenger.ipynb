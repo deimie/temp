{
 "cells": [
  {
   "cell_type": "raw",
   "metadata": {
    "vscode": {
     "languageId": "java"
    }
   },
   "source": [
    "---\n",
    "title: Scavenger Hunt\n",
    "author: Iris Yang\n",
    "date: 'April 16, 2023'\n",
    "format:\n",
    "  html:\n",
    "    code-fold: true\n",
    "keep-ipynb: true\n",
    "---"
   ]
  },
  {
   "cell_type": "markdown",
   "metadata": {},
   "source": [
    "Welcome to our scavenger hunt!\n",
    "\n",
    "We have computers set up across the room with each question. Start at question 1 and make sure to record your answers. The responses will create message and the key to a special prize!"
   ]
  },
  {
   "attachments": {},
   "cell_type": "markdown",
   "metadata": {},
   "source": [
    "## Question 1"
   ]
  },
  {
   "cell_type": "code",
   "execution_count": null,
   "metadata": {
    "vscode": {
     "languageId": "java"
    }
   },
   "outputs": [],
   "source": [
    "int x = 56/10*5*4;\n",
    "\n",
    "if (x<10){\n",
    "    System.out.println(\"extra credit\");\n",
    "}\n",
    "else if (x<= 50){\n",
    "    System.out.println(\"apple\");\n",
    "}\n",
    "else if (x > 50 &&  x <= 100){\n",
    "    System.out.println(\"candy\");\n",
    "}\n",
    "else if (x > 100 &&  x <= 115){\n",
    "    System.out.println(\"chocolate\");\n",
    "}\n",
    "else if (x > 115 &&  x <= 150){\n",
    "    System.out.println(\"dinero\");\n",
    "}"
   ]
  },
  {
   "attachments": {},
   "cell_type": "markdown",
   "metadata": {},
   "source": [
    "## Question 2"
   ]
  },
  {
   "cell_type": "code",
   "execution_count": 5,
   "metadata": {
    "vscode": {
     "languageId": "java"
    }
   },
   "outputs": [],
   "source": [
    "public static void main(String [] args) {\n",
    "    String[] words = {\"and\", \"more\", \"is\", \"also\", \"plus\"};\n",
    "    answer(words);\n",
    "    System.out.println(answer(words));\n",
    "}\n",
    "\n",
    "public static String answer(String words[]) {\n",
    "    String first = words[0];\n",
    "    for (int i = 1 ; i < words.length ; i++) {\n",
    "        if ((words[i].compareTo(first)) < 0) {\n",
    "            first = words[i];\n",
    "        }\n",
    "    } \n",
    "    return first;\n",
    "}\n"
   ]
  },
  {
   "attachments": {},
   "cell_type": "markdown",
   "metadata": {},
   "source": [
    "## Question 3"
   ]
  },
  {
   "cell_type": "code",
   "execution_count": 3,
   "metadata": {
    "vscode": {
     "languageId": "java"
    }
   },
   "outputs": [
    {
     "ename": "CompilationException",
     "evalue": "",
     "output_type": "error",
     "traceback": [
      "\u001b[1m\u001b[30m|   \u001b[1m\u001b[30mif (!(\u001b[0m\u001b[1m\u001b[30m\u001b[41mx\u001b[0m\u001b[1m\u001b[30m||y) || (x && y)) {\u001b[0m",
      "\u001b[1m\u001b[31mcannot find symbol\u001b[0m",
      "\u001b[1m\u001b[31m  symbol:   variable x\u001b[0m",
      "",
      "\u001b[1m\u001b[30m|   \u001b[1m\u001b[30mif (!(x||\u001b[0m\u001b[1m\u001b[30m\u001b[41my\u001b[0m\u001b[1m\u001b[30m) || (x && y)) {\u001b[0m",
      "\u001b[1m\u001b[31mcannot find symbol\u001b[0m",
      "\u001b[1m\u001b[31m  symbol:   variable y\u001b[0m",
      "",
      "\u001b[1m\u001b[30m|   \u001b[1m\u001b[30mif (!(x||y) || (\u001b[0m\u001b[1m\u001b[30m\u001b[41mx\u001b[0m\u001b[1m\u001b[30m && y)) {\u001b[0m",
      "\u001b[1m\u001b[31mcannot find symbol\u001b[0m",
      "\u001b[1m\u001b[31m  symbol:   variable x\u001b[0m",
      "",
      "\u001b[1m\u001b[30m|   \u001b[1m\u001b[30mif (!(x||y) || (x && \u001b[0m\u001b[1m\u001b[30m\u001b[41my\u001b[0m\u001b[1m\u001b[30m)) {\u001b[0m",
      "\u001b[1m\u001b[31mcannot find symbol\u001b[0m",
      "\u001b[1m\u001b[31m  symbol:   variable y\u001b[0m",
      ""
     ]
    }
   ],
   "source": [
    "// x is true, y is false\n",
    "if (!(x||y) || (x && y)) {\n",
    "    System.out.print(\"on\");\n",
    "}\n",
    "if (!(x&&y) && (x || y)) {\n",
    "    System.out.print(\"under\");\n",
    "}\n",
    "else {\n",
    "    System.out.print(\"in\");\n",
    "}"
   ]
  },
  {
   "attachments": {},
   "cell_type": "markdown",
   "metadata": {},
   "source": [
    "## Question 4"
   ]
  },
  {
   "cell_type": "code",
   "execution_count": null,
   "metadata": {
    "vscode": {
     "languageId": "java"
    }
   },
   "outputs": [],
   "source": [
    "int x = 10;\n",
    "if (x*3 <= 30) {\n",
    "    x++;\n",
    "}\n",
    "if (x > 31) {\n",
    "    x += 4;\n",
    "}\n",
    "System.out.print(x);"
   ]
  },
  {
   "attachments": {},
   "cell_type": "markdown",
   "metadata": {},
   "source": [
    "A. 11 (chair) \n",
    "\n",
    "B. 15 (backpack) \n",
    "\n",
    "C. 31 (table) \n",
    "\n",
    "D. error (floor)"
   ]
  },
  {
   "attachments": {},
   "cell_type": "markdown",
   "metadata": {},
   "source": [
    "## Question 5\n",
    "\n",
    "Items whose value does not change are called...\n",
    "\n",
    "A. variable (Mr.M's desk)\n",
    "\n",
    "B. stay-same (bathroom) \n",
    "\n",
    "C. literal (outside) \n",
    "\n",
    "D. unvariable (hetvi's backpack)"
   ]
  }
 ],
 "metadata": {
  "kernelspec": {
   "display_name": "Java",
   "language": "java",
   "name": "java"
  },
  "language_info": {
   "codemirror_mode": "java",
   "file_extension": ".jshell",
   "mimetype": "text/x-java-source",
   "name": "Java",
   "pygments_lexer": "java",
   "version": "17.0.4+8"
  },
  "orig_nbformat": 4,
  "vscode": {
   "interpreter": {
    "hash": "b0fa6594d8f4cbf19f97940f81e996739fb7646882a419484c72d19e05852a7e"
   }
  }
 },
 "nbformat": 4,
 "nbformat_minor": 2
}
