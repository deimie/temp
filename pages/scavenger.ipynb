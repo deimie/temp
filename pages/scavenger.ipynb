{
 "cells": [
  {
   "cell_type": "raw",
   "metadata": {
    "vscode": {
     "languageId": "java"
    }
   },
   "source": [
    "---\n",
    "title: Scavenger Hunt\n",
    "author: Iris Yang\n",
    "date: 'April 16, 2023'\n",
    "---"
   ]
  },
  {
   "attachments": {},
   "cell_type": "markdown",
   "metadata": {},
   "source": [
    "Directions: Welcome to our introduction to Unit 1-4. We have 5 questions posted around the room.Partner up and grab your phone to write down the output of the code. No laptops. The responses will create message and the key to a special prize! Ask Iris if you have any questions."
   ]
  },
  {
   "attachments": {},
   "cell_type": "markdown",
   "metadata": {},
   "source": [
    "## Question 1"
   ]
  },
  {
   "cell_type": "code",
   "execution_count": null,
   "metadata": {
    "vscode": {
     "languageId": "java"
    }
   },
   "outputs": [],
   "source": [
    "// x is true, y is false\n",
    "if (!(x||y) || (x && y)) {\n",
    "    System.out.print(\"on\");\n",
    "}\n",
    "if (!(x&&y) && (x || y)) {\n",
    "    System.out.print(\"under\");\n",
    "}\n",
    "else {\n",
    "    System.out.print(\"in\");\n",
    "}"
   ]
  },
  {
   "cell_type": "markdown",
   "metadata": {},
   "source": [
    "- Variables x and y are initialized with boolean values: x is true and y is false.\n",
    "- First conditional statement is evaluated. The expression !(x||y) evaluates to false, and the expression (x && y) evaluates to false as well. - Therefore, the first conditional statement does not execute.\n",
    "- The second conditional statement is evaluated. The expression !(x&&y) evaluates to true, and the expression (x || y) evaluates to true. \n",
    "- Code prints \"under\"."
   ]
  },
  {
   "attachments": {},
   "cell_type": "markdown",
   "metadata": {},
   "source": [
    "## Question 2"
   ]
  },
  {
   "cell_type": "code",
   "execution_count": null,
   "metadata": {
    "vscode": {
     "languageId": "java"
    }
   },
   "outputs": [],
   "source": [
    "int x = 10;\n",
    "if (x*3 <= 30) {\n",
    "    x++;\n",
    "}\n",
    "if (x > 31) {\n",
    "    x += 4;\n",
    "}\n",
    "System.out.print(x);"
   ]
  },
  {
   "cell_type": "markdown",
   "metadata": {},
   "source": [
    "A. 11 (chair) \n",
    "\n",
    "B. 15 (backpack) \n",
    "\n",
    "C. 31 (table) \n",
    "\n",
    "D. error (floor)"
   ]
  },
  {
   "cell_type": "markdown",
   "metadata": {},
   "source": [
    "- x is initialized to 10.\n",
    "- The first if statement checks if x*3 is less than or equal to 30. Since x*3 is equal to 30, the condition is true and the code inside the if statement is executed.\n",
    "- Inside the if statement, x is incremented by 1, so it becomes 11.\n",
    "- The second if statement checks if x is greater than 31. Since x is equal to 11, the condition is false and the code inside the if statement is not executed.\n",
    "- The final value of x is printed, which is 11."
   ]
  },
  {
   "attachments": {},
   "cell_type": "markdown",
   "metadata": {},
   "source": [
    "## Question 3"
   ]
  },
  {
   "cell_type": "code",
   "execution_count": 8,
   "metadata": {
    "vscode": {
     "languageId": "java"
    }
   },
   "outputs": [],
   "source": [
    "public class Q3 {\n",
    "    public static void main(String[] args) {\n",
    "        String[] words = {\"hello\", \"world\", \"Java\", \"try\", \"catch\"};\n",
    "        String result = \"outside\";\n",
    "        for (String word : words) {\n",
    "            try {\n",
    "                // Attempt some code that might throw an exception\n",
    "                if (word.length() > 5) {\n",
    "                    break;\n",
    "                }\n",
    "            } catch (Exception e) {\n",
    "                // Catch any exception and change the result\n",
    "                result = \"inside\";\n",
    "            }\n",
    "        }\n",
    "        System.out.println(result);\n",
    "    }\n",
    "}"
   ]
  },
  {
   "cell_type": "markdown",
   "metadata": {},
   "source": [
    "- An array of strings named words is declared and initialized with 5 string values.\n",
    "- A string variable named result is declared and initialized to the value \"outside\".\n",
    "- A for-each loop is used to iterate over each string in the words array.\n",
    "- Inside the loop, an if statement checks if the length of the current string is greater than 5. If it is, the break statement is executed and the loop is terminated.\n",
    "- Since none of the strings in the array have a length greater than 5, the if statement is never triggered and the break statement is never executed.\n",
    "- The loop completes normally and the final value of result is printed to the console, which is \"outside\"."
   ]
  },
  {
   "attachments": {},
   "cell_type": "markdown",
   "metadata": {},
   "source": [
    "## Question 4"
   ]
  },
  {
   "cell_type": "code",
   "execution_count": null,
   "metadata": {
    "vscode": {
     "languageId": "java"
    }
   },
   "outputs": [],
   "source": [
    "public class Q4 {\n",
    "    public static void main(String[] args) {\n",
    "        String[] words = {\"also\", \"plus\", \"is\", \"for\", \"and\"};\n",
    "\n",
    "        String first = words[0]; // initialize with the first word\n",
    "\n",
    "        for (int i = 1; i < words.length; i++) {\n",
    "            if (words[i].length() < first.length()) {\n",
    "                first = words[i]; // update shortestWord if a shorter word is found\n",
    "            }\n",
    "        }\n",
    "\n",
    "        System.out.println(first);\n",
    "    }\n",
    "}\n"
   ]
  },
  {
   "cell_type": "markdown",
   "metadata": {},
   "source": [
    "- An array of strings named words is declared and initialized with 5 string values.\n",
    "- A string variable named first is declared and initialized to the value of the first string in the words array, which is \"also\".\n",
    "- A for loop is used to iterate over each string in the words array starting from the second element (index 1).\n",
    "- Inside the loop, an if statement checks if the length of the current string is less than the length of the first string. If it is, the first variable is updated with the value of the current string.\n",
    "- The loop completes normally and the final value of first is printed to the console, which is \"is\" because it is the shortest word in the array."
   ]
  },
  {
   "attachments": {},
   "cell_type": "markdown",
   "metadata": {},
   "source": [
    "## Question 5"
   ]
  },
  {
   "cell_type": "code",
   "execution_count": null,
   "metadata": {
    "vscode": {
     "languageId": "java"
    }
   },
   "outputs": [],
   "source": [
    "int x = 56/10*5*4;\n",
    "if (x<10) {\n",
    "    System.out.println(\"extra credit\");\n",
    "}\n",
    "else if (x<= 50){\n",
    "    System.out.println(\"apple\");\n",
    "}\n",
    "else if (x > 50 &&  x <= 100){\n",
    "    System.out.println(\"candy\");\n",
    "}\n",
    "else if (x > 100 &&  x <= 115){\n",
    "    System.out.println(\"chocolate\");\n",
    "}\n",
    "else if (x > 115 &&  x <= 150){\n",
    "    System.out.println(\"dinero\");\n",
    "}"
   ]
  },
  {
   "cell_type": "markdown",
   "metadata": {},
   "source": [
    "It follows the simple arithmetic expression. x = 112 which is between 50 and 100 so it prints candy."
   ]
  }
 ],
 "metadata": {
  "kernelspec": {
   "display_name": "Java",
   "language": "java",
   "name": "java"
  },
  "language_info": {
   "codemirror_mode": "java",
   "file_extension": ".jshell",
   "mimetype": "text/x-java-source",
   "name": "Java",
   "pygments_lexer": "java",
   "version": "17.0.4+8"
  },
  "orig_nbformat": 4,
  "vscode": {
   "interpreter": {
    "hash": "b0fa6594d8f4cbf19f97940f81e996739fb7646882a419484c72d19e05852a7e"
   }
  }
 },
 "nbformat": 4,
 "nbformat_minor": 2
}
