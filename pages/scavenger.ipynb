{
 "cells": [
  {
   "cell_type": "raw",
   "metadata": {
    "vscode": {
     "languageId": "java"
    }
   },
   "source": [
    "---\n",
    "title: Scavenger Hunt\n",
    "author: Iris Yang\n",
    "date: 'April 16, 2023'\n",
    "---"
   ]
  },
  {
   "attachments": {},
   "cell_type": "markdown",
   "metadata": {},
   "source": [
    "Directions: Welcome to our introduction to Unit 1-4. We have 5 questions posted around the room.Partner up and grab your phone to write down the output of the code. No laptops. The responses will create message and the key to a special prize! Ask Iris if you have any questions."
   ]
  },
  {
   "attachments": {},
   "cell_type": "markdown",
   "metadata": {},
   "source": [
    "## Question 1"
   ]
  },
  {
   "cell_type": "code",
   "execution_count": null,
   "metadata": {
    "vscode": {
     "languageId": "java"
    }
   },
   "outputs": [],
   "source": [
    "int x = 56/10*5*4;\n",
    "if (x<10) {\n",
    "    System.out.println(\"extra credit\");\n",
    "}\n",
    "else if (x<= 50){\n",
    "    System.out.println(\"apple\");\n",
    "}\n",
    "else if (x > 50 &&  x <= 100){\n",
    "    System.out.println(\"candy\");\n",
    "}\n",
    "else if (x > 100 &&  x <= 115){\n",
    "    System.out.println(\"chocolate\");\n",
    "}\n",
    "else if (x > 115 &&  x <= 150){\n",
    "    System.out.println(\"dinero\");\n",
    "}"
   ]
  },
  {
   "attachments": {},
   "cell_type": "markdown",
   "metadata": {},
   "source": [
    "## Question 2"
   ]
  },
  {
   "cell_type": "code",
   "execution_count": null,
   "metadata": {
    "vscode": {
     "languageId": "java"
    }
   },
   "outputs": [],
   "source": [
    "public class Q2 {\n",
    "    public static void main(String[] args) {\n",
    "        String[] words = {\"also\", \"plus\", \"is\", \"for\", \"and\"};\n",
    "\n",
    "        String first = words[0]; // initialize with the first word\n",
    "\n",
    "        for (int i = 1; i < words.length; i++) {\n",
    "            if (words[i].length() < first.length()) {\n",
    "                first = words[i]; // update shortestWord if a shorter word is found\n",
    "            }\n",
    "        }\n",
    "\n",
    "        System.out.println(first);\n",
    "    }\n",
    "}\n",
    "Q2.main(null);"
   ]
  },
  {
   "attachments": {},
   "cell_type": "markdown",
   "metadata": {},
   "source": [
    "## Question 3"
   ]
  },
  {
   "cell_type": "code",
   "execution_count": null,
   "metadata": {
    "vscode": {
     "languageId": "java"
    }
   },
   "outputs": [],
   "source": [
    "// x is true, y is false\n",
    "if (!(x||y) || (x && y)) {\n",
    "    System.out.print(\"on\");\n",
    "}\n",
    "if (!(x&&y) && (x || y)) {\n",
    "    System.out.print(\"under\");\n",
    "}\n",
    "else {\n",
    "    System.out.print(\"in\");\n",
    "}"
   ]
  },
  {
   "attachments": {},
   "cell_type": "markdown",
   "metadata": {},
   "source": [
    "## Question 4"
   ]
  },
  {
   "cell_type": "code",
   "execution_count": null,
   "metadata": {
    "vscode": {
     "languageId": "java"
    }
   },
   "outputs": [],
   "source": [
    "int x = 10;\n",
    "if (x*3 <= 30) {\n",
    "    x++;\n",
    "}\n",
    "if (x > 31) {\n",
    "    x += 4;\n",
    "}\n",
    "System.out.print(x);"
   ]
  },
  {
   "attachments": {},
   "cell_type": "markdown",
   "metadata": {},
   "source": [
    "A. 11 (chair) \n",
    "\n",
    "B. 15 (backpack) \n",
    "\n",
    "C. 31 (table) \n",
    "\n",
    "D. error (floor)"
   ]
  },
  {
   "attachments": {},
   "cell_type": "markdown",
   "metadata": {},
   "source": [
    "## Question 5"
   ]
  },
  {
   "cell_type": "code",
   "execution_count": null,
   "metadata": {
    "vscode": {
     "languageId": "java"
    }
   },
   "outputs": [],
   "source": [
    "public class Q5 {\n",
    "    public static void main(String[] args) {\n",
    "        String[] words = {\"hello\", \"world\", \"Java\", \"try\", \"catch\"};\n",
    "        String result = \"outside\";\n",
    "        for (String word : words) {\n",
    "            try {\n",
    "                // Attempt some code that might throw an exception\n",
    "                if (word.length() > 5) {\n",
    "                    break;\n",
    "                }\n",
    "            } catch (Exception e) {\n",
    "                // Catch any exception and change the result\n",
    "                result = \"inside\";\n",
    "            }\n",
    "        }\n",
    "        System.out.println(result);\n",
    "    }\n",
    "}"
   ]
  }
 ],
 "metadata": {
  "kernelspec": {
   "display_name": "Java",
   "language": "java",
   "name": "java"
  },
  "language_info": {
   "codemirror_mode": "java",
   "file_extension": ".jshell",
   "mimetype": "text/x-java-source",
   "name": "Java",
   "pygments_lexer": "java",
   "version": "17.0.4+8"
  },
  "orig_nbformat": 4,
  "vscode": {
   "interpreter": {
    "hash": "b0fa6594d8f4cbf19f97940f81e996739fb7646882a419484c72d19e05852a7e"
   }
  }
 },
 "nbformat": 4,
 "nbformat_minor": 2
}
