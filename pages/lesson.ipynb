{
 "cells": [
  {
   "attachments": {},
   "cell_type": "raw",
   "metadata": {},
   "source": [
    "---\n",
    "title: \"Lesson\"\n",
    "format:\n",
    "  html:\n",
    "    html-math-method: katex\n",
    "---"
   ]
  },
  {
   "attachments": {},
   "cell_type": "markdown",
   "metadata": {},
   "source": [
    "## Setup \n",
    "- Units 1-4 are roughly half of the exam\n",
    "- The best way to learn it is through code flow which means integrating all key concepts into a code that you build upon \n",
    "- Start with the scavenger hunt quiz\n",
    "\n",
    "## Lesson\n",
    "### Unit 1\n",
    "Set the scene: you are a teenager who has their license and wants to find a car to buy. When you go to the car dealership, you realize that there are many different things you have to keep track of. You have to keep track of the car brands you look at, the prices of the cars, phone numbers of different sales representatives, etc. \n",
    "\n",
    "To make it easy on yourself, you want to develop a computerized code that is able to sort through different prices, car brands, etc. \n",
    "\n",
    "The first step to doing this is through storing these different variables just mentioned as data types - primitive data types. You use variables to store data in Java. Types of primitive data include integers, doubles, booleans, etc.\n",
    "\n",
    "Now, there are so many things you need to make when buying a car: price, brand, milage, color, etc. We can set the price of a car can be stored as a double, the car brand as a strings. If you want to store whether you like a car or not, you can store that information as a boolean data type. \n",
    "\n",
    "Now that you have data and variables declared, you can also compare prices of different cars through expressions and assignment statements. we will go more in depth about boolean comparison statement in Unit 3. Casting, the assignment of one data type to another, can be used for rounding. This can make prices more customer-friendly and easier to compare.\n",
    "\n",
    "There are operators like the modulo operator where the remainder is computed or there's division and multiplication. If you ever want to compare car prices, you can set up a code with scanner input which is also a very common with consoles.\n",
    "\n",
    "image\n",
    "\n",
    "We can also use compound operators which follows the form a += 1 or age ++ in order to indicate a = a + 1. For example, if you want to model the amount of cars that have entered the highway. Each time the light turns green the number of cars is car += 2.\n",
    "\n",
    "# Unit 2\n",
    "- Now that Hack 1 we have practically covered Unit 1 of AP computer science that involves primitive data types and operators (both simple and compound)\n",
    "- When you want to characterize all the cars, you can create a class or a template that basically defines what an object is like and what the object can do\n",
    "- When it comes to cars, you can create a class for what the car is like. The class Cars can have variables like String brand, int age, double mpg. With these parameters, you can create an actual object. \n",
    "Car honda = new Car (\"Honda,\" \"10,\" \"54.6\") --> constructor\n",
    "- Inside the parentheses --> parameters which are values passed\n",
    "- Car (String brand, int age, double mpg)\n",
    "- If you want to overload a constructor, you can have the same characteristics but different order of variables. For example, Car (double mpg, String brand, int age)\n",
    "\n",
    "# Unit 3\n",
    "\n",
    "Continuing the cars theme, we are going to explore Unit 3 which includes topics like boolean expressions, if statements, control flow, if-else statements, else-if statements, compound boolean expressions, equivalent boolean expressions, and comparing objects. This is roughly 15%-17.5% of the AP Exam. \n",
    "\n",
    "Just like how cars have different conditions or states, we can use boolean expressions in Java to represent conditions that evaluate to either true or false. For example, we can have a boolean expression that checks if a car's engine is running or if its speed is greater than a certain threshold."
   ]
  },
  {
   "cell_type": "code",
   "execution_count": null,
   "metadata": {
    "vscode": {
     "languageId": "java"
    }
   },
   "outputs": [],
   "source": [
    "boolean isEngineRunning = true;\n",
    "int speed = 60;\n",
    "boolean isSpeedAboveThreshold = speed > 50;\n",
    "\n",
    "if (isEngineRunning && isSpeedAboveThreshold) {\n",
    "    System.out.println(\"The car is moving fast!\");\n",
    "} else {\n",
    "    System.out.println(\"The car is not moving fast.\");\n",
    "}"
   ]
  },
  {
   "attachments": {},
   "cell_type": "markdown",
   "metadata": {},
   "source": [
    "In Java, we can use boolean operators like && (and), || (or), and ! (not) to create compound boolean expressions that combine multiple conditions. These operators allow us to create more complex conditions for making decisions in our code."
   ]
  },
  {
   "cell_type": "code",
   "execution_count": null,
   "metadata": {
    "vscode": {
     "languageId": "java"
    }
   },
   "outputs": [],
   "source": [
    "boolean isEngineRunning = true;\n",
    "int speed = 60;\n",
    "boolean isSpeedAboveThreshold = speed > 50;\n",
    "boolean isEmergencyBrakeApplied = false;\n",
    "\n",
    "// compound boolean\n",
    "if (isEngineRunning && (isSpeedAboveThreshold || isEmergencyBrakeApplied)) {\n",
    "    System.out.println(\"The car is in an emergency situation!\");\n",
    "} else {\n",
    "    System.out.println(\"The car is in a normal situation.\");\n",
    "}"
   ]
  },
  {
   "attachments": {},
   "cell_type": "markdown",
   "metadata": {},
   "source": [
    "One common use of boolean expressions is in if statements, which allow us to execute different blocks of code depending on whether a condition is true or false. For example, we can use an if statement to check if a car's engine is running, and if it is, we can perform actions like accelerating or decelerating the car."
   ]
  },
  {
   "cell_type": "code",
   "execution_count": null,
   "metadata": {
    "vscode": {
     "languageId": "java"
    }
   },
   "outputs": [],
   "source": [
    "boolean isEngineRunning = true;\n",
    "if (isEngineRunning) {\n",
    "    System.out.println(\"The engine is running\");\n",
    "} else {\n",
    "    System.out.println(\"The car's engine is not running.\")\n",
    "}"
   ]
  },
  {
   "attachments": {},
   "cell_type": "markdown",
   "metadata": {},
   "source": [
    "We can also use if-else statements to specify different blocks of code to be executed when a condition is true or false. This allows us to handle both cases in our code. For example, we can use an if-else statement to check if a car's speed is above a certain limit, and if it is, we can display a warning message."
   ]
  },
  {
   "cell_type": "code",
   "execution_count": null,
   "metadata": {
    "vscode": {
     "languageId": "java"
    }
   },
   "outputs": [],
   "source": [
    "int speed = 80;\n",
    "int speedLimit = 60;\n",
    "\n",
    "if (speed > speedLimit) {\n",
    "    System.out.println(\"Warning: you are above the speed limit!\");\n",
    "} else {\n",
    "    System.out.println(\"You are below the speed limit\");\n",
    "\n",
    "}"
   ]
  },
  {
   "attachments": {},
   "cell_type": "markdown",
   "metadata": {},
   "source": [
    "Another expression that we can use is else-if statements in Java to check multiple conditions sequentially until one of them is true. This allows us to handle different cases in our code. For example, we can use else-if statements to check the weather condition and adjust the car's driving mode accordingly."
   ]
  },
  {
   "cell_type": "code",
   "execution_count": null,
   "metadata": {
    "vscode": {
     "languageId": "java"
    }
   },
   "outputs": [],
   "source": [
    "String weather = \"rainy\";\n",
    "int visibility = 30;\n",
    "\n",
    "if (weather.equals(\"sunny\")) {\n",
    "    System.out.println(\"Driving in normal mode.\");\n",
    "} else if (weather.equals(\"rainy\") && visibility < 50) {\n",
    "    System.out.println(\"Driving in slow mode due to low visibility.\");\n",
    "} else if (weather.equals(\"snowy\")) {\n",
    "    System.out.println(\"Driving in snow mode.\");\n",
    "} else {\n",
    "    System.out.println(\"Driving in normal mode.\");\n",
    "}"
   ]
  },
  {
   "attachments": {},
   "cell_type": "markdown",
   "metadata": {},
   "source": [
    "It's important to note that equivalent boolean expressions can be used interchangeably in our code. For example, we can use == or .equals() to compare objects of certain types, such as strings or other objects, in our boolean expressions."
   ]
  },
  {
   "cell_type": "code",
   "execution_count": null,
   "metadata": {
    "vscode": {
     "languageId": "java"
    }
   },
   "outputs": [],
   "source": [
    "String carMake = \"Toyota\";\n",
    "String carModel = \"Camry\";\n",
    "\n",
    "if (carMake.equals(\"Toyota\") && carModel == \"Camry\") {\n",
    "    System.out.println(\"The car is a Toyota Camry.\");\n",
    "} else {\n",
    "    System.out.println(\"The car is not a Toyota Camry.\");\n",
    "}"
   ]
  },
  {
   "attachments": {},
   "cell_type": "markdown",
   "metadata": {},
   "source": [
    "Lastly, we can use object comparison to compare objects based on their references. In Java, objects are compared using the == operator, which compares the memory addresses of the objects. For example, we can use object comparison to check if two cars are the same object or not."
   ]
  },
  {
   "cell_type": "code",
   "execution_count": null,
   "metadata": {
    "vscode": {
     "languageId": "java"
    }
   },
   "outputs": [],
   "source": [
    "Car car1 = new Car(\"Toyota\", \"Camry\");\n",
    "Car car2 = new Car(\"Toyota\", \"Camry\");\n",
    "\n",
    "if (car1 == car2) {\n",
    "    System.out.println(\"car1 and car2 are the same object.\");\n",
    "} else {\n",
    "    System.out.println(\"car1 and car2 are different objects.\");\n",
    "}"
   ]
  },
  {
   "attachments": {},
   "cell_type": "markdown",
   "metadata": {},
   "source": [
    "You can also use the equals method which is denoted by equals() to compare two objects."
   ]
  },
  {
   "cell_type": "code",
   "execution_count": null,
   "metadata": {
    "vscode": {
     "languageId": "java"
    }
   },
   "outputs": [],
   "source": [
    "public static void main(String[] args) {\n",
    "    // Create two Car objects\n",
    "    Car car1 = new Car(\"Toyota\", \"Camry\", 2020);\n",
    "    Car car2 = new Car(\"Toyota\", \"Camry\", 2020);\n",
    "\n",
    "    // Compare using equals() method\n",
    "    if (car1.equals(car2)) {\n",
    "        System.out.println(\"car1 is equal to car2\");\n",
    "    } else {\n",
    "        System.out.println(\"car1 is not equal to car2\");\n",
    "    }\n",
    "}"
   ]
  },
  {
   "attachments": {},
   "cell_type": "markdown",
   "metadata": {},
   "source": [
    "Key to note is the use of truth tables. Oftentimes, if you want to visualize the possible outcomes of different combinations of boolean values and logical operators, and use them to evaluate the overall result of a boolean expression.\n",
    "\n",
    "## Hack 3: \n",
    "1. Create a Car object named myCar with the following details:\n",
    "- Make: \"Toyota\"\n",
    "- Model: \"Camry\"\n",
    "- Year: 2019\n",
    "- Price: 25000.0\n",
    "2. Print the car details using the getMake(), getModel(), getYear(), and getPrice() methods.\n",
    "\n",
    "3. Check if the car is affordable within a budget of $20000 using the isAffordable() method and print the result using if-else statement.\n",
    "\n",
    "4. Determine and print the car's classification based on its price using if-else-if statement:\n",
    "- If the price is greater than $50000, print \"The car is a luxury car.\"\n",
    "- If the price is greater than $30000, print \"The car is a mid-range car.\"\n",
    "- Otherwise, print \"The car is an affordable car.\""
   ]
  },
  {
   "cell_type": "code",
   "execution_count": null,
   "metadata": {
    "vscode": {
     "languageId": "java"
    }
   },
   "outputs": [],
   "source": [
    "public class Car {\n",
    "    private String make;\n",
    "    private String model;\n",
    "    private int year;\n",
    "    private double price;\n",
    "    \n",
    "    // Constructor\n",
    "    public Car(String make, String model, int year, double price) {\n",
    "        this.make = make;\n",
    "        this.model = model;\n",
    "        this.year = year;\n",
    "        this.price = price;\n",
    "    }\n",
    "    \n",
    "    // Getter methods\n",
    "    public String getMake() {\n",
    "        return make;\n",
    "    }\n",
    "    \n",
    "    public String getModel() {\n",
    "        return model;\n",
    "    }\n",
    "    \n",
    "    public int getYear() {\n",
    "        return year;\n",
    "    }\n",
    "    \n",
    "    public double getPrice() {\n",
    "        return price;\n",
    "    }\n",
    "    \n",
    "    // Method to determine if the car is affordable or not\n",
    "    public boolean isAffordable(double budget) {\n",
    "        if (price <= budget) {\n",
    "            return true;\n",
    "        } else {\n",
    "            return false;\n",
    "        }\n",
    "    }\n",
    "    \n",
    "    // Main method\n",
    "    public static void main(String[] args) {\n",
    "        // Create a new Car object\n",
    "\n",
    "        // Print the car details\n",
    "        \n",
    "        // Check if the car is affordable with a budget of $20000 using an if-else statement\n",
    "       \n",
    "        // Check if the car is a luxury car based on its price using if-else-if statement\n",
    "    \n",
    "    }\n",
    "}\n",
    "Car.main(null);"
   ]
  },
  {
   "attachments": {},
   "cell_type": "markdown",
   "metadata": {},
   "source": [
    "\n",
    "# Unit 4\n",
    "\n",
    "Now imagine you're a car mechanic, and you have a long list of cars waiting to be fixed. Instead of manually fixing each car one by one, you want to use a loop to efficiently go through the list. This is where a while loop comes in handy.\n",
    "A while loop is used when you want to repeat a block of code as long as a certain condition is true. For example, you can use a while loop to fix cars in your list until there are no more cars left."
   ]
  },
  {
   "cell_type": "code",
   "execution_count": null,
   "metadata": {
    "vscode": {
     "languageId": "java"
    }
   },
   "outputs": [],
   "source": [
    "code block"
   ]
  },
  {
   "attachments": {},
   "cell_type": "markdown",
   "metadata": {},
   "source": [
    "Some issues with while loops is that if the loop condition is always true, the loop will never exit and you'll have an infinite loop. This can easily crash a computer server and should be avoided. On the other hand, if the loop conditions are always false, then the loop will never run and the body is skipped. This leads to inefficiencies and larger code file sizes than necessary.\n",
    "\n",
    "Break and continue statements help loops. Break statement will help immediately exit out of the loop. Continue statement jumps to the next iteration. \n",
    "\n",
    "There's also try-catch staetment blocks and excepion throwing. Exceptions are signs that something is wrong with the code at runtime and the try-catch statements helps keep the program from crashing. The program tries to run the code assuming it works in the try block and if it catches an exception, it moves to the catch block. Then, there is a finally block that runs afterwards no matter what the try or catch blocks say."
   ]
  },
  {
   "cell_type": "code",
   "execution_count": null,
   "metadata": {
    "vscode": {
     "languageId": "java"
    }
   },
   "outputs": [],
   "source": [
    "code block"
   ]
  },
  {
   "attachments": {},
   "cell_type": "markdown",
   "metadata": {},
   "source": [
    "Now, let's say you have a different list of cars, and you know exactly how many cars are in the list. You want to iterate through the list a specific number of times to perform a certain task on each car. This is where a for loop can be very useful. A common example is often fibbonaci's numbers. "
   ]
  },
  {
   "cell_type": "code",
   "execution_count": null,
   "metadata": {
    "vscode": {
     "languageId": "java"
    }
   },
   "outputs": [],
   "source": [
    "code block"
   ]
  },
  {
   "attachments": {},
   "cell_type": "markdown",
   "metadata": {},
   "source": [
    "Sometimes, you may need to perform a task that requires multiple levels of iteration. For example, imagine you're a car dealer, and you have a list of cars with different makes and models. You want to go through each make and model combination to perform some operations. This is where nested iteration comes into play. Nested iteration is when you have one or more loops inside another loop. You can use nested while or for loops to iterate through multiple levels of data."
   ]
  },
  {
   "cell_type": "code",
   "execution_count": null,
   "metadata": {
    "vscode": {
     "languageId": "java"
    }
   },
   "outputs": [],
   "source": [
    "code block"
   ]
  }
 ],
 "metadata": {
  "kernelspec": {
   "display_name": "Java",
   "language": "java",
   "name": "java"
  },
  "language_info": {
   "codemirror_mode": "java",
   "file_extension": ".jshell",
   "mimetype": "text/x-java-source",
   "name": "Java",
   "pygments_lexer": "java",
   "version": "17.0.4.1+1"
  },
  "orig_nbformat": 4,
  "vscode": {
   "interpreter": {
    "hash": "369f2c481f4da34e4445cda3fffd2e751bd1c4d706f27375911949ba6bb62e1c"
   }
  }
 },
 "nbformat": 4,
 "nbformat_minor": 2
}
