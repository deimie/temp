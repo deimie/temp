{
  "cells": [
    {
      "cell_type": "markdown",
      "metadata": {},
      "source": [
        "# Grading\n",
        "\n",
        "{% include lab_nav.html %}\n",
        "\n",
        "## Grading Checklist Period 2 APCSA"
      ],
      "id": "1ed53296-7885-40a3-b271-457f3fd24aae"
    },
    {
      "cell_type": "raw",
      "metadata": {
        "raw_mimetype": "text/html"
      },
      "source": [
        "<body>"
      ],
      "id": "dc8a3c0d-86b6-47ab-8711-d4fce3253a09"
    },
    {
      "cell_type": "raw",
      "metadata": {
        "raw_mimetype": "text/html"
      },
      "source": [
        "<table>"
      ],
      "id": "f48af3e6-519b-4d8e-b50f-6d942212cefc"
    },
    {
      "cell_type": "raw",
      "metadata": {
        "raw_mimetype": "text/html"
      },
      "source": [
        "<tr>"
      ],
      "id": "44f04d97-33dc-4a6a-8744-8b524f43ad0e"
    },
    {
      "cell_type": "raw",
      "metadata": {
        "raw_mimetype": "text/html"
      },
      "source": [
        "<th>"
      ],
      "id": "5f54d603-2bc4-4c07-ac97-0a9ebdc93500"
    },
    {
      "cell_type": "markdown",
      "metadata": {},
      "source": [
        "Name"
      ],
      "id": "50398c02-d55b-429e-89db-942ff12686b5"
    },
    {
      "cell_type": "raw",
      "metadata": {
        "raw_mimetype": "text/html"
      },
      "source": [
        "</th>"
      ],
      "id": "fd9f9fb6-7fd3-43fb-92c9-bbe469bebd72"
    },
    {
      "cell_type": "raw",
      "metadata": {
        "raw_mimetype": "text/html"
      },
      "source": [
        "<th>"
      ],
      "id": "b18e7901-ce97-426c-a35b-0c4ea78eb03f"
    },
    {
      "cell_type": "markdown",
      "metadata": {},
      "source": [
        "Score"
      ],
      "id": "8e4b9a7f-0410-4763-a8a8-77b242cae76e"
    },
    {
      "cell_type": "raw",
      "metadata": {
        "raw_mimetype": "text/html"
      },
      "source": [
        "</th>"
      ],
      "id": "ae2e167f-3379-4654-b510-e39d561bbc83"
    },
    {
      "cell_type": "raw",
      "metadata": {
        "raw_mimetype": "text/html"
      },
      "source": [
        "</tr>"
      ],
      "id": "a8e73ba2-1a00-460a-baef-1e71d34995b6"
    },
    {
      "cell_type": "raw",
      "metadata": {
        "raw_mimetype": "text/html"
      },
      "source": [
        "<tr>"
      ],
      "id": "425c9621-9743-4a4a-ac18-d951d9ee85e7"
    },
    {
      "cell_type": "raw",
      "metadata": {
        "raw_mimetype": "text/html"
      },
      "source": [
        "<td>"
      ],
      "id": "746f6810-f497-4016-ba16-40c290fff752"
    },
    {
      "cell_type": "markdown",
      "metadata": {},
      "source": [
        "Name"
      ],
      "id": "71683caf-bb01-490b-8ea6-0bafe8f31489"
    },
    {
      "cell_type": "raw",
      "metadata": {
        "raw_mimetype": "text/html"
      },
      "source": [
        "</td>"
      ],
      "id": "40f3f4a6-6421-47d9-a1e1-50880e9f5248"
    },
    {
      "cell_type": "raw",
      "metadata": {
        "raw_mimetype": "text/html"
      },
      "source": [
        "<td>"
      ],
      "id": "b981bd2b-71f8-47a7-b847-b5a9f5c2ff04"
    },
    {
      "cell_type": "markdown",
      "metadata": {},
      "source": [
        "Score"
      ],
      "id": "337b0cf0-8942-4244-b170-8789a9fd33a4"
    },
    {
      "cell_type": "raw",
      "metadata": {
        "raw_mimetype": "text/html"
      },
      "source": [
        "</td>"
      ],
      "id": "fe14e8b4-6c5a-4662-9001-7ef38323c021"
    },
    {
      "cell_type": "raw",
      "metadata": {
        "raw_mimetype": "text/html"
      },
      "source": [
        "</tr>"
      ],
      "id": "ee36ecf4-7f89-4a35-abac-fd9ce30e3e95"
    },
    {
      "cell_type": "raw",
      "metadata": {
        "raw_mimetype": "text/html"
      },
      "source": [
        "</table>"
      ],
      "id": "353a608c-9c8f-41fe-8f6e-380baca65c95"
    },
    {
      "cell_type": "raw",
      "metadata": {
        "raw_mimetype": "text/html"
      },
      "source": [
        "<form>"
      ],
      "id": "8c142820-a5d1-4902-9a38-1a8608f6ccf8"
    },
    {
      "cell_type": "markdown",
      "metadata": {},
      "source": [
        "Name:<br> <input type=\"text\" id=\"name\" name=\"name\"> Grade:<br>\n",
        "<input type=\"text\" id=\"grade\" name=\"grade\">\n",
        "<button type=\"button\" onclick=\"addRow();\">Submit</button>"
      ],
      "id": "1622f612-3bb3-4cbb-a769-cfa005033602"
    },
    {
      "cell_type": "raw",
      "metadata": {
        "raw_mimetype": "text/html"
      },
      "source": [
        "</form>"
      ],
      "id": "75077c47-b030-4b93-96ff-3a273d9fcbc6"
    },
    {
      "cell_type": "raw",
      "metadata": {
        "raw_mimetype": "text/html"
      },
      "source": [
        "</body>"
      ],
      "id": "d2b0483d-f588-4906-a3a7-7cfabcb0ce78"
    },
    {
      "cell_type": "raw",
      "metadata": {
        "raw_mimetype": "text/html"
      },
      "source": [
        "<script>\n",
        "    function addRow(){\n",
        "        var name = document.getElementById(\"name\").value;\n",
        "        var grade = document.getElementById(\"grade\").value;\n",
        "\n",
        "        var table = document.getElementsByTagName(\"table\")[0];\n",
        "        var newRow = table.insertRow(1);\n",
        "\n",
        "        var nameCell = newRow.insertCell(0);\n",
        "        var gradeCell = newRow.insertCell(1);\n",
        "\n",
        "        nameCell.innerHTML = name;\n",
        "        gradeCell.innerHTML = grade; \n",
        "    }\n",
        "</script>"
      ],
      "id": "6376039b-a2d2-4181-98b2-54b30a04f4eb"
    }
  ],
  "nbformat": 4,
  "nbformat_minor": 5,
  "metadata": {
    "kernelspec": {
      "display_name": "Python 3",
      "language": "python",
      "name": "python3"
    }
  }
}