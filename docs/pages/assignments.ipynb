{
  "cells": [
    {
      "cell_type": "markdown",
      "metadata": {},
      "source": [
        "# Assignments\n",
        "\n",
        "{% include lab_nav.html %}\n",
        "\n",
        "## Assignments\n",
        "\n",
        "1.  [Assignment 1](%7B%7Bsite.baseurl%7D%7D/grading/)\n",
        "2.  [Assignment 2]()"
      ],
      "id": "2ab8e4d0-6c90-4d4d-9081-a5acbfe801bd"
    }
  ],
  "nbformat": 4,
  "nbformat_minor": 5,
  "metadata": {
    "kernelspec": {
      "display_name": "Python 3",
      "language": "python",
      "name": "python3"
    }
  }
}