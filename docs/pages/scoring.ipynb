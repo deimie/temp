{
  "cells": [
    {
      "cell_type": "markdown",
      "metadata": {},
      "source": [
        "# Lab Scores\n",
        "\n",
        "### Score Rundown:\n",
        "\n",
        "-   Lab - 2 points\n",
        "-   Lesson - 1 point\n",
        "-   Total - 3 points"
      ],
      "id": "e1fabcb1-dd8c-4870-8178-22c3961220f8"
    },
    {
      "cell_type": "raw",
      "metadata": {
        "raw_mimetype": "text/html"
      },
      "source": [
        "<body>"
      ],
      "id": "51fc7202-2273-4d35-b64a-a768d407a1d7"
    },
    {
      "cell_type": "raw",
      "metadata": {
        "raw_mimetype": "text/html"
      },
      "source": [
        "<div id=\"scores\">"
      ],
      "id": "2296f641-fec0-4a5c-9c36-51d4bf2b37ec"
    },
    {
      "cell_type": "markdown",
      "metadata": {},
      "source": [
        "    </div>"
      ],
      "id": "2f29ec98-12dd-4f2f-aa3b-2b611b852185"
    },
    {
      "cell_type": "raw",
      "metadata": {
        "raw_mimetype": "text/html"
      },
      "source": [
        "</body>"
      ],
      "id": "7a106586-a0b6-4f7a-893a-65a3abeeb08f"
    },
    {
      "cell_type": "raw",
      "metadata": {
        "raw_mimetype": "text/html"
      },
      "source": [
        "<script>\n",
        "    // put all scores and names in this array (order Z at top, A at bottom)\n",
        "    let people = [\n",
        "        [\"name\",\"peerLab\",\"peerLesson\",\"liveLab\",\"liveLesson\",\"total\"],\n",
        "        [\"\",\"/2\",\"/1\",\"/2\",\"/1\",\"/3\"],\n",
        "        [\"\",\"/2\",\"/1\",\"/2\",\"/1\",\"/3\"],\n",
        "        [\"\",\"/2\",\"/1\",\"/2\",\"/1\",\"/3\"],\n",
        "        [\"\",\"/2\",\"/1\",\"/2\",\"/1\",\"/3\"],\n",
        "        [\"\",\"/2\",\"/1\",\"/2\",\"/1\",\"/3\"],\n",
        "        [\"\",\"/2\",\"/1\",\"/2\",\"/1\",\"/3\"],\n",
        "        [\"\",\"/2\",\"/1\",\"/2\",\"/1\",\"/3\"],\n",
        "        [\"\",\"/2\",\"/1\",\"/2\",\"/1\",\"/3\"],\n",
        "        [\"\",\"/2\",\"/1\",\"/2\",\"/1\",\"/3\"],\n",
        "        [\"\",\"/2\",\"/1\",\"/2\",\"/1\",\"/3\"],\n",
        "        [\"\",\"/2\",\"/1\",\"/2\",\"/1\",\"/3\"],\n",
        "        [\"\",\"/2\",\"/1\",\"/2\",\"/1\",\"/3\"],\n",
        "        [\"\",\"/2\",\"/1\",\"/2\",\"/1\",\"/3\"],\n",
        "        [\"\",\"/2\",\"/1\",\"/2\",\"/1\",\"/3\"],\n",
        "        [\"\",\"/2\",\"/1\",\"/2\",\"/1\",\"/3\"],\n",
        "        [\"\",\"/2\",\"/1\",\"/2\",\"/1\",\"/3\"],\n",
        "        [\"\",\"/2\",\"/1\",\"/2\",\"/1\",\"/3\"],\n",
        "        [\"\",\"/2\",\"/1\",\"/2\",\"/1\",\"/3\"],\n",
        "        [\"\",\"/2\",\"/1\",\"/2\",\"/1\",\"/3\"],\n",
        "        [\"\",\"/2\",\"/1\",\"/2\",\"/1\",\"/3\"],\n",
        "        [\"\",\"/2\",\"/1\",\"/2\",\"/1\",\"/3\"]\n",
        "\n",
        "    ]\n",
        "\n",
        "    // iterates through array and creates tr's and td's for each index\n",
        "    function makeTableHTML(people) {\n",
        "        var result = \"<table>\";\n",
        "        result += \"<thead><tr><th>Name</th><th>Lab Score (Peer)</th><th>Lesson Score (Peer)</th><th>Lab Score (Live)</th><th>Lab Score (Live)</th><th>Total</th></thead><tbody>\";\n",
        "        // Create header row. Better way to do this?\n",
        "        //for (var i = 0; i < array.length; i++) {\n",
        "        for (var i = people.length-1; i > 0; i--) {\n",
        "            result += \"<tr>\";\n",
        "            for (var j = 0; j < people[i].length; j++) {\n",
        "                result += \"<td>\"+people[i][j]+\"</td>\";   \n",
        "            }   \n",
        "            result += \"</tr>\";\n",
        "        }   \n",
        "        result += \"</tbody></table>\";\n",
        "        document.getElementById(\"scores\").innerHTML = result;\n",
        "    }\n",
        "    makeTableHTML(people);\n",
        "\n",
        "</script>"
      ],
      "id": "557063eb-adcc-4eff-a959-b823f81ee802"
    }
  ],
  "nbformat": 4,
  "nbformat_minor": 5,
  "metadata": {
    "kernelspec": {
      "display_name": "Python 3",
      "language": "python",
      "name": "python3"
    }
  }
}