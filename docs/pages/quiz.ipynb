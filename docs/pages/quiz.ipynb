{
  "cells": [
    {
      "cell_type": "markdown",
      "metadata": {},
      "source": [
        "# Quiz"
      ],
      "id": "a944f7a9-450a-42dc-aeda-dc9ef8a6d1a3"
    },
    {
      "cell_type": "raw",
      "metadata": {
        "raw_mimetype": "text/html"
      },
      "source": [
        "<h2>"
      ],
      "id": "e389f1e3-89e8-406a-a539-c5fbf78e800c"
    },
    {
      "cell_type": "markdown",
      "metadata": {},
      "source": [
        "Quiz"
      ],
      "id": "7321ccbb-f17f-4c54-99a2-e409c73eeb3b"
    },
    {
      "cell_type": "raw",
      "metadata": {
        "raw_mimetype": "text/html"
      },
      "source": [
        "</h2>"
      ],
      "id": "eef187b5-807f-4154-947c-67ac4d65e2d2"
    },
    {
      "cell_type": "raw",
      "metadata": {
        "raw_mimetype": "text/html"
      },
      "source": [
        "<ul class=\"quiz\" id=\"quiz\">"
      ],
      "id": "2e6518c7-2efb-4d7e-a8e6-fc57a9921130"
    },
    {
      "cell_type": "raw",
      "metadata": {
        "raw_mimetype": "text/html"
      },
      "source": [
        "</ul>"
      ],
      "id": "b69b04d3-87f6-46d0-90d4-427e7c96ead9"
    },
    {
      "cell_type": "raw",
      "metadata": {
        "raw_mimetype": "text/html"
      },
      "source": [
        "<button class=\"score-questions\" onclick=\"returnScore()\" id=\"check\">"
      ],
      "id": "5676d7b5-9480-45d6-bfe6-2a1a2e3ea6b4"
    },
    {
      "cell_type": "markdown",
      "metadata": {},
      "source": [
        "Check"
      ],
      "id": "4216be0e-a431-41fd-8d69-f14c25bec770"
    },
    {
      "cell_type": "raw",
      "metadata": {
        "raw_mimetype": "text/html"
      },
      "source": [
        "</button>"
      ],
      "id": "bd972744-8a0f-45bc-bd08-6748edc7f0b2"
    },
    {
      "cell_type": "markdown",
      "metadata": {},
      "source": [
        "<span id=\"results\" class=\"results\">Your score is -/-</span>"
      ],
      "id": "12e57649-b730-4052-b3ff-cf9d2ead016c"
    },
    {
      "cell_type": "raw",
      "metadata": {
        "raw_mimetype": "text/html"
      },
      "source": [
        "<script>\n",
        "\n",
        "    const question_answer_map = new Map();\n",
        "    var question_count = 0;\n",
        "\n",
        "    // YOU HAVE TO GET THE ID SOMEHOW\n",
        "    function create_questions(set) {\n",
        "        \n",
        "        const ID = 0; // Change later\n",
        "        url = \"https://abopsc-backend.dontntntnt.de/api/problem/getProblemSetMC\";\n",
        "\n",
        "        const body = {\n",
        "            method : \"POST\",\n",
        "            headers : {\n",
        "                \"Content-Type\" : \"application/json\"\n",
        "            },\n",
        "            credentials : \"include\",\n",
        "            body: JSON.stringify({id : ID})\n",
        "        }\n",
        "\n",
        "        fetch(url, body).then(data => data.json()).then(data => {\n",
        "            problem_set_data = data;\n",
        "            var questionNumber = 0;\n",
        "            Object.keys(data).forEach(q => {\n",
        "                const container = Document.createElement(\"li\");\n",
        "                const questionElem = Document.createElement(\"h4\");\n",
        "                questionElem.innerHTML = q;\n",
        "                questionElem.id = \"q\" + questionNumber;\n",
        "                container.appendChild(questionElem);\n",
        "\n",
        "                const choices = document.createElement(\"ul\");\n",
        "                choices.classList = \"choices\";\n",
        "\n",
        "                // Add answer choices to each question\n",
        "                Object.keys(data.get(q)).forEach(r => {\n",
        "                    const li = document.createElement(\"li\");\n",
        "                    const label = document.createElement(\"label\");\n",
        "                    const input = document.createElement(\"input\");\n",
        "                    input.type = \"radio\";\n",
        "                    input.name = \"question\" + questionNumber;\n",
        "                    const span = document.createElement(\"span\");\n",
        "                    span.innerHTML = r;\n",
        "                    label.appendChild(input);\n",
        "                    label.appendChild()\n",
        "                    li.appendChild(label);\n",
        "                    choices.appendChild(li);\n",
        "\n",
        "                    // Store answers\n",
        "                    if (data.get(q).get(r)) {\n",
        "                        question_answer_map.set(q, r);\n",
        "                    }\n",
        "                })\n",
        "\n",
        "                container.appendChild(choices);\n",
        "\n",
        "                document.getElementById(\"quiz\").appendChild(container);\n",
        "\n",
        "                questionNumber++;\n",
        "                question_count++;\n",
        "            })\n",
        "        });\n",
        "\n",
        "        // Passes in name of radio set and question, returns boolean\n",
        "        function checkQuestion(question, radioName) {\n",
        "            var radios = document.getElementsByName(radioName);\n",
        "            var correctness = undefined;\n",
        "            for (var y = 0; y < radios.length; y++) {\n",
        "                radios[y].disabled = true;\n",
        "                if (radios[y].checked) correctness = question_answer_map.get(question) == radios[y].innerHTML;\n",
        "            }\n",
        "            return correctness;\n",
        "        }\n",
        "\n",
        "        function getScore() {\n",
        "            document.getElementById(\"check\").disabled = true;\n",
        "            var score = 0;\n",
        "            for (var i = 0; i < question_count; i++) {\n",
        "                if (checkQuestion(Document.getElementById(\"q\" + i).innerHTML, \"question\" + i)) {\n",
        "                    score++;\n",
        "                } else {\n",
        "                    document.getElementById(\"q\" + i).style.color = \"red\";\n",
        "                }\n",
        "            }\n",
        "            return score;\n",
        "        }\n",
        "\n",
        "        // REMEMBER TO GET USER EMAIL AND PASSWORD\n",
        "        function returnScore() {\n",
        "            var score = getScore();\n",
        "            document.getElementById(\"results\").innerHTML = \"Your score is \" + score + \"/\" + question_count;\n",
        "\n",
        "            /* This fetch should be used to send scores\n",
        "            fetch()\n",
        "            */\n",
        "        }\n",
        "    }\n",
        "</script>"
      ],
      "id": "ad8034fa-54f2-4370-bbc4-3c9e5b89a54c"
    }
  ],
  "nbformat": 4,
  "nbformat_minor": 5,
  "metadata": {
    "kernelspec": {
      "display_name": "Python 3",
      "language": "python",
      "name": "python3"
    }
  }
}