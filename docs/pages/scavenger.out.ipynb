{
  "cells": [
    {
      "cell_type": "markdown",
      "metadata": {},
      "source": [
        "# Scavenger Hunt\n",
        "\n",
        "Iris Yang  \n",
        "2023-04-16\n",
        "\n",
        "Directions: Welcome to our introduction to Unit 1-4. We have 5 questions\n",
        "posted around the room.Partner up and grab your phone to write down the\n",
        "output of the code. No laptops. The responses will create message and\n",
        "the key to a special prize! Ask Iris if you have any questions.\n",
        "\n",
        "## Question 1"
      ],
      "id": "efc15856-5169-4a96-ad66-ee81061f1a2c"
    },
    {
      "cell_type": "code",
      "execution_count": null,
      "metadata": {
        "vscode": {
          "languageId": "java"
        }
      },
      "outputs": [],
      "source": [
        "int x = 56/10*5*4;\n",
        "if (x<10) {\n",
        "    System.out.println(\"extra credit\");\n",
        "}\n",
        "else if (x<= 50){\n",
        "    System.out.println(\"apple\");\n",
        "}\n",
        "else if (x > 50 &&  x <= 100){\n",
        "    System.out.println(\"candy\");\n",
        "}\n",
        "else if (x > 100 &&  x <= 115){\n",
        "    System.out.println(\"chocolate\");\n",
        "}\n",
        "else if (x > 115 &&  x <= 150){\n",
        "    System.out.println(\"dinero\");\n",
        "}"
      ],
      "id": "5ceab0cd-630b-4f6c-809c-f4579e614a19"
    },
    {
      "cell_type": "markdown",
      "metadata": {},
      "source": [
        "## Question 2"
      ],
      "id": "74881ffa-3539-46e9-acca-e2b5898af37b"
    },
    {
      "cell_type": "code",
      "execution_count": null,
      "metadata": {
        "vscode": {
          "languageId": "java"
        }
      },
      "outputs": [],
      "source": [
        "public class Q2 {\n",
        "    public static void main(String[] args) {\n",
        "        String[] words = {\"also\", \"plus\", \"is\", \"for\", \"and\"};\n",
        "\n",
        "        String first = words[0]; // initialize with the first word\n",
        "\n",
        "        for (int i = 1; i < words.length; i++) {\n",
        "            if (words[i].length() < first.length()) {\n",
        "                first = words[i]; // update shortestWord if a shorter word is found\n",
        "            }\n",
        "        }\n",
        "\n",
        "        System.out.println(first);\n",
        "    }\n",
        "}\n",
        "Q2.main(null);"
      ],
      "id": "b66f73db-54b0-4dcf-b4fa-c460fda5b3fb"
    },
    {
      "cell_type": "markdown",
      "metadata": {},
      "source": [
        "## Question 3"
      ],
      "id": "27f63bf0-b92f-449d-8288-5597b5a95813"
    },
    {
      "cell_type": "code",
      "execution_count": null,
      "metadata": {
        "vscode": {
          "languageId": "java"
        }
      },
      "outputs": [],
      "source": [
        "// x is true, y is false\n",
        "if (!(x||y) || (x && y)) {\n",
        "    System.out.print(\"on\");\n",
        "}\n",
        "if (!(x&&y) && (x || y)) {\n",
        "    System.out.print(\"under\");\n",
        "}\n",
        "else {\n",
        "    System.out.print(\"in\");\n",
        "}"
      ],
      "id": "3698b569-6478-444a-808f-abd5181de99d"
    },
    {
      "cell_type": "markdown",
      "metadata": {},
      "source": [
        "## Question 4"
      ],
      "id": "2a90af24-ceb4-43ab-8322-496a362bf724"
    },
    {
      "cell_type": "code",
      "execution_count": null,
      "metadata": {
        "vscode": {
          "languageId": "java"
        }
      },
      "outputs": [],
      "source": [
        "int x = 10;\n",
        "if (x*3 <= 30) {\n",
        "    x++;\n",
        "}\n",
        "if (x > 31) {\n",
        "    x += 4;\n",
        "}\n",
        "System.out.print(x);"
      ],
      "id": "35ec99a1-262a-45f9-b2c6-3ae5e0639163"
    },
    {
      "cell_type": "markdown",
      "metadata": {},
      "source": [
        "A. 11 (chair)\n",
        "\n",
        "B. 15 (backpack)\n",
        "\n",
        "C. 31 (table)\n",
        "\n",
        "D. error (floor)\n",
        "\n",
        "## Question 5"
      ],
      "id": "58fc7c66-3489-4da1-9ba0-74add00c4e7e"
    },
    {
      "cell_type": "code",
      "execution_count": null,
      "metadata": {
        "vscode": {
          "languageId": "java"
        }
      },
      "outputs": [],
      "source": [
        "public class Q5 {\n",
        "    public static void main(String[] args) {\n",
        "        String[] words = {\"hello\", \"world\", \"Java\", \"try\", \"catch\"};\n",
        "        String result = \"outside\";\n",
        "        for (String word : words) {\n",
        "            try {\n",
        "                // Attempt some code that might throw an exception\n",
        "                if (word.length() > 5) {\n",
        "                    break;\n",
        "                }\n",
        "            } catch (Exception e) {\n",
        "                // Catch any exception and change the result\n",
        "                result = \"inside\";\n",
        "            }\n",
        "        }\n",
        "        System.out.println(result);\n",
        "    }\n",
        "}"
      ],
      "id": "7e2e2599-28cd-4e23-8ce0-e510b51edb25"
    }
  ],
  "nbformat": 4,
  "nbformat_minor": 5,
  "metadata": {
    "kernelspec": {
      "name": "java",
      "display_name": "Java",
      "language": "java"
    },
    "language_info": {
      "name": "Java",
      "codemirror_mode": "java",
      "file_extension": ".jshell",
      "mimetype": "text/x-java-source",
      "pygments_lexer": "java",
      "version": "17.0.4+8"
    },
    "orig_nbformat": "4",
    "vscode": {
      "interpreter": {
        "hash": "b0fa6594d8f4cbf19f97940f81e996739fb7646882a419484c72d19e05852a7e"
      }
    }
  }
}