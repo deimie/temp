{
  "cells": [
    {
      "cell_type": "markdown",
      "metadata": {},
      "source": [
        "# About ABopsC\n",
        "\n",
        "Welcome to our site on which we teach you about AP Computer Science A\n",
        "Units 1-4 to prepare our classmates for the AP Exam. We also have a\n",
        "cars-themed lab for you to practice the concepts in application!"
      ],
      "id": "b800cb8b-04f4-4042-88fd-f3e93c4a5123"
    }
  ],
  "nbformat": 4,
  "nbformat_minor": 5,
  "metadata": {
    "kernelspec": {
      "display_name": "Python 3",
      "language": "python",
      "name": "python3"
    }
  }
}